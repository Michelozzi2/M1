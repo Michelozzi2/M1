{
 "cells": [
  {
   "cell_type": "code",
   "execution_count": 1,
   "metadata": {},
   "outputs": [],
   "source": [
    "import pandas as pd\n",
    "import numpy as np\n",
    "import matplotlib.pyplot as plt\n",
    "import seaborn as sns\n"
   ]
  },
  {
   "cell_type": "code",
   "execution_count": 2,
   "metadata": {},
   "outputs": [
    {
     "data": {
      "text/html": [
       "<div>\n",
       "<style scoped>\n",
       "    .dataframe tbody tr th:only-of-type {\n",
       "        vertical-align: middle;\n",
       "    }\n",
       "\n",
       "    .dataframe tbody tr th {\n",
       "        vertical-align: top;\n",
       "    }\n",
       "\n",
       "    .dataframe thead th {\n",
       "        text-align: right;\n",
       "    }\n",
       "</style>\n",
       "<table border=\"1\" class=\"dataframe\">\n",
       "  <thead>\n",
       "    <tr style=\"text-align: right;\">\n",
       "      <th></th>\n",
       "      <th>id</th>\n",
       "      <th>log_price</th>\n",
       "      <th>property_type</th>\n",
       "      <th>room_type</th>\n",
       "      <th>amenities</th>\n",
       "      <th>accommodates</th>\n",
       "      <th>bathrooms</th>\n",
       "      <th>bed_type</th>\n",
       "      <th>cancellation_policy</th>\n",
       "      <th>cleaning_fee</th>\n",
       "      <th>...</th>\n",
       "      <th>latitude</th>\n",
       "      <th>longitude</th>\n",
       "      <th>name</th>\n",
       "      <th>neighbourhood</th>\n",
       "      <th>number_of_reviews</th>\n",
       "      <th>review_scores_rating</th>\n",
       "      <th>thumbnail_url</th>\n",
       "      <th>zipcode</th>\n",
       "      <th>bedrooms</th>\n",
       "      <th>beds</th>\n",
       "    </tr>\n",
       "  </thead>\n",
       "  <tbody>\n",
       "    <tr>\n",
       "      <th>0</th>\n",
       "      <td>6901257</td>\n",
       "      <td>5.010635</td>\n",
       "      <td>Apartment</td>\n",
       "      <td>Entire home/apt</td>\n",
       "      <td>{\"Wireless Internet\",\"Air conditioning\",Kitche...</td>\n",
       "      <td>3</td>\n",
       "      <td>1.0</td>\n",
       "      <td>Real Bed</td>\n",
       "      <td>strict</td>\n",
       "      <td>True</td>\n",
       "      <td>...</td>\n",
       "      <td>40.696524</td>\n",
       "      <td>-73.991617</td>\n",
       "      <td>Beautiful brownstone 1-bedroom</td>\n",
       "      <td>Brooklyn Heights</td>\n",
       "      <td>2</td>\n",
       "      <td>100.0</td>\n",
       "      <td>https://a0.muscache.com/im/pictures/6d7cbbf7-c...</td>\n",
       "      <td>11201</td>\n",
       "      <td>1.0</td>\n",
       "      <td>1.0</td>\n",
       "    </tr>\n",
       "    <tr>\n",
       "      <th>1</th>\n",
       "      <td>6304928</td>\n",
       "      <td>5.129899</td>\n",
       "      <td>Apartment</td>\n",
       "      <td>Entire home/apt</td>\n",
       "      <td>{\"Wireless Internet\",\"Air conditioning\",Kitche...</td>\n",
       "      <td>7</td>\n",
       "      <td>1.0</td>\n",
       "      <td>Real Bed</td>\n",
       "      <td>strict</td>\n",
       "      <td>True</td>\n",
       "      <td>...</td>\n",
       "      <td>40.766115</td>\n",
       "      <td>-73.989040</td>\n",
       "      <td>Superb 3BR Apt Located Near Times Square</td>\n",
       "      <td>Hell's Kitchen</td>\n",
       "      <td>6</td>\n",
       "      <td>93.0</td>\n",
       "      <td>https://a0.muscache.com/im/pictures/348a55fe-4...</td>\n",
       "      <td>10019</td>\n",
       "      <td>3.0</td>\n",
       "      <td>3.0</td>\n",
       "    </tr>\n",
       "    <tr>\n",
       "      <th>2</th>\n",
       "      <td>7919400</td>\n",
       "      <td>4.976734</td>\n",
       "      <td>Apartment</td>\n",
       "      <td>Entire home/apt</td>\n",
       "      <td>{TV,\"Cable TV\",\"Wireless Internet\",\"Air condit...</td>\n",
       "      <td>5</td>\n",
       "      <td>1.0</td>\n",
       "      <td>Real Bed</td>\n",
       "      <td>moderate</td>\n",
       "      <td>True</td>\n",
       "      <td>...</td>\n",
       "      <td>40.808110</td>\n",
       "      <td>-73.943756</td>\n",
       "      <td>The Garden Oasis</td>\n",
       "      <td>Harlem</td>\n",
       "      <td>10</td>\n",
       "      <td>92.0</td>\n",
       "      <td>https://a0.muscache.com/im/pictures/6fae5362-9...</td>\n",
       "      <td>10027</td>\n",
       "      <td>1.0</td>\n",
       "      <td>3.0</td>\n",
       "    </tr>\n",
       "    <tr>\n",
       "      <th>3</th>\n",
       "      <td>13418779</td>\n",
       "      <td>6.620073</td>\n",
       "      <td>House</td>\n",
       "      <td>Entire home/apt</td>\n",
       "      <td>{TV,\"Cable TV\",Internet,\"Wireless Internet\",Ki...</td>\n",
       "      <td>4</td>\n",
       "      <td>1.0</td>\n",
       "      <td>Real Bed</td>\n",
       "      <td>flexible</td>\n",
       "      <td>True</td>\n",
       "      <td>...</td>\n",
       "      <td>37.772004</td>\n",
       "      <td>-122.431619</td>\n",
       "      <td>Beautiful Flat in the Heart of SF!</td>\n",
       "      <td>Lower Haight</td>\n",
       "      <td>0</td>\n",
       "      <td>NaN</td>\n",
       "      <td>https://a0.muscache.com/im/pictures/72208dad-9...</td>\n",
       "      <td>94117.0</td>\n",
       "      <td>2.0</td>\n",
       "      <td>2.0</td>\n",
       "    </tr>\n",
       "    <tr>\n",
       "      <th>4</th>\n",
       "      <td>3808709</td>\n",
       "      <td>4.744932</td>\n",
       "      <td>Apartment</td>\n",
       "      <td>Entire home/apt</td>\n",
       "      <td>{TV,Internet,\"Wireless Internet\",\"Air conditio...</td>\n",
       "      <td>2</td>\n",
       "      <td>1.0</td>\n",
       "      <td>Real Bed</td>\n",
       "      <td>moderate</td>\n",
       "      <td>True</td>\n",
       "      <td>...</td>\n",
       "      <td>38.925627</td>\n",
       "      <td>-77.034596</td>\n",
       "      <td>Great studio in midtown DC</td>\n",
       "      <td>Columbia Heights</td>\n",
       "      <td>4</td>\n",
       "      <td>40.0</td>\n",
       "      <td>NaN</td>\n",
       "      <td>20009</td>\n",
       "      <td>0.0</td>\n",
       "      <td>1.0</td>\n",
       "    </tr>\n",
       "    <tr>\n",
       "      <th>...</th>\n",
       "      <td>...</td>\n",
       "      <td>...</td>\n",
       "      <td>...</td>\n",
       "      <td>...</td>\n",
       "      <td>...</td>\n",
       "      <td>...</td>\n",
       "      <td>...</td>\n",
       "      <td>...</td>\n",
       "      <td>...</td>\n",
       "      <td>...</td>\n",
       "      <td>...</td>\n",
       "      <td>...</td>\n",
       "      <td>...</td>\n",
       "      <td>...</td>\n",
       "      <td>...</td>\n",
       "      <td>...</td>\n",
       "      <td>...</td>\n",
       "      <td>...</td>\n",
       "      <td>...</td>\n",
       "      <td>...</td>\n",
       "      <td>...</td>\n",
       "    </tr>\n",
       "    <tr>\n",
       "      <th>74106</th>\n",
       "      <td>14549287</td>\n",
       "      <td>4.605170</td>\n",
       "      <td>Apartment</td>\n",
       "      <td>Private room</td>\n",
       "      <td>{}</td>\n",
       "      <td>1</td>\n",
       "      <td>1.0</td>\n",
       "      <td>Real Bed</td>\n",
       "      <td>flexible</td>\n",
       "      <td>False</td>\n",
       "      <td>...</td>\n",
       "      <td>40.709025</td>\n",
       "      <td>-73.939405</td>\n",
       "      <td>one room bushwick</td>\n",
       "      <td>Williamsburg</td>\n",
       "      <td>0</td>\n",
       "      <td>NaN</td>\n",
       "      <td>https://a0.muscache.com/im/pictures/55162426/6...</td>\n",
       "      <td>11206.0</td>\n",
       "      <td>1.0</td>\n",
       "      <td>1.0</td>\n",
       "    </tr>\n",
       "    <tr>\n",
       "      <th>74107</th>\n",
       "      <td>13281809</td>\n",
       "      <td>5.043425</td>\n",
       "      <td>Apartment</td>\n",
       "      <td>Entire home/apt</td>\n",
       "      <td>{TV,\"Cable TV\",Internet,\"Wireless Internet\",Ki...</td>\n",
       "      <td>4</td>\n",
       "      <td>2.0</td>\n",
       "      <td>Real Bed</td>\n",
       "      <td>moderate</td>\n",
       "      <td>True</td>\n",
       "      <td>...</td>\n",
       "      <td>33.871549</td>\n",
       "      <td>-118.396053</td>\n",
       "      <td>Spacious Hermosa 2 BR on PCH</td>\n",
       "      <td>Hermosa Beach</td>\n",
       "      <td>16</td>\n",
       "      <td>93.0</td>\n",
       "      <td>https://a0.muscache.com/im/pictures/2b86560b-a...</td>\n",
       "      <td>90254</td>\n",
       "      <td>2.0</td>\n",
       "      <td>4.0</td>\n",
       "    </tr>\n",
       "    <tr>\n",
       "      <th>74108</th>\n",
       "      <td>18688039</td>\n",
       "      <td>5.220356</td>\n",
       "      <td>Apartment</td>\n",
       "      <td>Entire home/apt</td>\n",
       "      <td>{TV,Internet,\"Wireless Internet\",\"Air conditio...</td>\n",
       "      <td>5</td>\n",
       "      <td>1.0</td>\n",
       "      <td>Real Bed</td>\n",
       "      <td>moderate</td>\n",
       "      <td>True</td>\n",
       "      <td>...</td>\n",
       "      <td>40.706749</td>\n",
       "      <td>-73.942377</td>\n",
       "      <td>Modern 2 Bedroom Apartment in Williamsburg</td>\n",
       "      <td>Williamsburg</td>\n",
       "      <td>43</td>\n",
       "      <td>94.0</td>\n",
       "      <td>https://a0.muscache.com/im/pictures/7fbe448c-5...</td>\n",
       "      <td>11206.0</td>\n",
       "      <td>2.0</td>\n",
       "      <td>2.0</td>\n",
       "    </tr>\n",
       "    <tr>\n",
       "      <th>74109</th>\n",
       "      <td>17045948</td>\n",
       "      <td>5.273000</td>\n",
       "      <td>Apartment</td>\n",
       "      <td>Entire home/apt</td>\n",
       "      <td>{TV,\"Wireless Internet\",\"Air conditioning\",Kit...</td>\n",
       "      <td>2</td>\n",
       "      <td>1.0</td>\n",
       "      <td>Real Bed</td>\n",
       "      <td>strict</td>\n",
       "      <td>True</td>\n",
       "      <td>...</td>\n",
       "      <td>40.738535</td>\n",
       "      <td>-74.000157</td>\n",
       "      <td>Designer's Apartment in HEART of NYC</td>\n",
       "      <td>West Village</td>\n",
       "      <td>0</td>\n",
       "      <td>NaN</td>\n",
       "      <td>https://a0.muscache.com/im/pictures/b3971b63-0...</td>\n",
       "      <td>10011</td>\n",
       "      <td>0.0</td>\n",
       "      <td>2.0</td>\n",
       "    </tr>\n",
       "    <tr>\n",
       "      <th>74110</th>\n",
       "      <td>3534845</td>\n",
       "      <td>4.852030</td>\n",
       "      <td>Boat</td>\n",
       "      <td>Entire home/apt</td>\n",
       "      <td>{TV,Internet,\"Wireless Internet\",Kitchen,\"Free...</td>\n",
       "      <td>4</td>\n",
       "      <td>1.0</td>\n",
       "      <td>Real Bed</td>\n",
       "      <td>moderate</td>\n",
       "      <td>False</td>\n",
       "      <td>...</td>\n",
       "      <td>33.761096</td>\n",
       "      <td>-118.192409</td>\n",
       "      <td>Cozy Boat at Shoreline Village</td>\n",
       "      <td>Long Beach</td>\n",
       "      <td>205</td>\n",
       "      <td>96.0</td>\n",
       "      <td>https://a0.muscache.com/im/pictures/22968537/d...</td>\n",
       "      <td>90802</td>\n",
       "      <td>1.0</td>\n",
       "      <td>2.0</td>\n",
       "    </tr>\n",
       "  </tbody>\n",
       "</table>\n",
       "<p>74111 rows × 29 columns</p>\n",
       "</div>"
      ],
      "text/plain": [
       "             id  log_price property_type        room_type  \\\n",
       "0       6901257   5.010635     Apartment  Entire home/apt   \n",
       "1       6304928   5.129899     Apartment  Entire home/apt   \n",
       "2       7919400   4.976734     Apartment  Entire home/apt   \n",
       "3      13418779   6.620073         House  Entire home/apt   \n",
       "4       3808709   4.744932     Apartment  Entire home/apt   \n",
       "...         ...        ...           ...              ...   \n",
       "74106  14549287   4.605170     Apartment     Private room   \n",
       "74107  13281809   5.043425     Apartment  Entire home/apt   \n",
       "74108  18688039   5.220356     Apartment  Entire home/apt   \n",
       "74109  17045948   5.273000     Apartment  Entire home/apt   \n",
       "74110   3534845   4.852030          Boat  Entire home/apt   \n",
       "\n",
       "                                               amenities  accommodates  \\\n",
       "0      {\"Wireless Internet\",\"Air conditioning\",Kitche...             3   \n",
       "1      {\"Wireless Internet\",\"Air conditioning\",Kitche...             7   \n",
       "2      {TV,\"Cable TV\",\"Wireless Internet\",\"Air condit...             5   \n",
       "3      {TV,\"Cable TV\",Internet,\"Wireless Internet\",Ki...             4   \n",
       "4      {TV,Internet,\"Wireless Internet\",\"Air conditio...             2   \n",
       "...                                                  ...           ...   \n",
       "74106                                                 {}             1   \n",
       "74107  {TV,\"Cable TV\",Internet,\"Wireless Internet\",Ki...             4   \n",
       "74108  {TV,Internet,\"Wireless Internet\",\"Air conditio...             5   \n",
       "74109  {TV,\"Wireless Internet\",\"Air conditioning\",Kit...             2   \n",
       "74110  {TV,Internet,\"Wireless Internet\",Kitchen,\"Free...             4   \n",
       "\n",
       "       bathrooms  bed_type cancellation_policy  cleaning_fee  ...   latitude  \\\n",
       "0            1.0  Real Bed              strict          True  ...  40.696524   \n",
       "1            1.0  Real Bed              strict          True  ...  40.766115   \n",
       "2            1.0  Real Bed            moderate          True  ...  40.808110   \n",
       "3            1.0  Real Bed            flexible          True  ...  37.772004   \n",
       "4            1.0  Real Bed            moderate          True  ...  38.925627   \n",
       "...          ...       ...                 ...           ...  ...        ...   \n",
       "74106        1.0  Real Bed            flexible         False  ...  40.709025   \n",
       "74107        2.0  Real Bed            moderate          True  ...  33.871549   \n",
       "74108        1.0  Real Bed            moderate          True  ...  40.706749   \n",
       "74109        1.0  Real Bed              strict          True  ...  40.738535   \n",
       "74110        1.0  Real Bed            moderate         False  ...  33.761096   \n",
       "\n",
       "        longitude                                        name  \\\n",
       "0      -73.991617              Beautiful brownstone 1-bedroom   \n",
       "1      -73.989040    Superb 3BR Apt Located Near Times Square   \n",
       "2      -73.943756                            The Garden Oasis   \n",
       "3     -122.431619          Beautiful Flat in the Heart of SF!   \n",
       "4      -77.034596                  Great studio in midtown DC   \n",
       "...           ...                                         ...   \n",
       "74106  -73.939405                           one room bushwick   \n",
       "74107 -118.396053                Spacious Hermosa 2 BR on PCH   \n",
       "74108  -73.942377  Modern 2 Bedroom Apartment in Williamsburg   \n",
       "74109  -74.000157        Designer's Apartment in HEART of NYC   \n",
       "74110 -118.192409              Cozy Boat at Shoreline Village   \n",
       "\n",
       "          neighbourhood number_of_reviews review_scores_rating  \\\n",
       "0      Brooklyn Heights                 2                100.0   \n",
       "1        Hell's Kitchen                 6                 93.0   \n",
       "2                Harlem                10                 92.0   \n",
       "3          Lower Haight                 0                  NaN   \n",
       "4      Columbia Heights                 4                 40.0   \n",
       "...                 ...               ...                  ...   \n",
       "74106      Williamsburg                 0                  NaN   \n",
       "74107     Hermosa Beach                16                 93.0   \n",
       "74108      Williamsburg                43                 94.0   \n",
       "74109      West Village                 0                  NaN   \n",
       "74110        Long Beach               205                 96.0   \n",
       "\n",
       "                                           thumbnail_url  zipcode bedrooms  \\\n",
       "0      https://a0.muscache.com/im/pictures/6d7cbbf7-c...    11201      1.0   \n",
       "1      https://a0.muscache.com/im/pictures/348a55fe-4...    10019      3.0   \n",
       "2      https://a0.muscache.com/im/pictures/6fae5362-9...    10027      1.0   \n",
       "3      https://a0.muscache.com/im/pictures/72208dad-9...  94117.0      2.0   \n",
       "4                                                    NaN    20009      0.0   \n",
       "...                                                  ...      ...      ...   \n",
       "74106  https://a0.muscache.com/im/pictures/55162426/6...  11206.0      1.0   \n",
       "74107  https://a0.muscache.com/im/pictures/2b86560b-a...    90254      2.0   \n",
       "74108  https://a0.muscache.com/im/pictures/7fbe448c-5...  11206.0      2.0   \n",
       "74109  https://a0.muscache.com/im/pictures/b3971b63-0...    10011      0.0   \n",
       "74110  https://a0.muscache.com/im/pictures/22968537/d...    90802      1.0   \n",
       "\n",
       "       beds  \n",
       "0       1.0  \n",
       "1       3.0  \n",
       "2       3.0  \n",
       "3       2.0  \n",
       "4       1.0  \n",
       "...     ...  \n",
       "74106   1.0  \n",
       "74107   4.0  \n",
       "74108   2.0  \n",
       "74109   2.0  \n",
       "74110   2.0  \n",
       "\n",
       "[74111 rows x 29 columns]"
      ]
     },
     "execution_count": 2,
     "metadata": {},
     "output_type": "execute_result"
    }
   ],
   "source": [
    "Data = pd.read_csv('Airbnbprediction.csv')\n",
    "Data"
   ]
  },
  {
   "cell_type": "code",
   "execution_count": 3,
   "metadata": {},
   "outputs": [
    {
     "name": "stdout",
     "output_type": "stream",
     "text": [
      "   log_price property_type        room_type  \\\n",
      "0   5.010635     Apartment  Entire home/apt   \n",
      "1   5.129899     Apartment  Entire home/apt   \n",
      "2   4.976734     Apartment  Entire home/apt   \n",
      "3   6.620073         House  Entire home/apt   \n",
      "4   4.744932     Apartment  Entire home/apt   \n",
      "\n",
      "                                           amenities  accommodates  bathrooms  \\\n",
      "0  {\"Wireless Internet\",\"Air conditioning\",Kitche...             3        1.0   \n",
      "1  {\"Wireless Internet\",\"Air conditioning\",Kitche...             7        1.0   \n",
      "2  {TV,\"Cable TV\",\"Wireless Internet\",\"Air condit...             5        1.0   \n",
      "3  {TV,\"Cable TV\",Internet,\"Wireless Internet\",Ki...             4        1.0   \n",
      "4  {TV,Internet,\"Wireless Internet\",\"Air conditio...             2        1.0   \n",
      "\n",
      "   bed_type cancellation_policy  cleaning_fee city instant_bookable  \\\n",
      "0  Real Bed              strict          True  NYC                f   \n",
      "1  Real Bed              strict          True  NYC                t   \n",
      "2  Real Bed            moderate          True  NYC                t   \n",
      "3  Real Bed            flexible          True   SF                f   \n",
      "4  Real Bed            moderate          True   DC                t   \n",
      "\n",
      "      neighbourhood  bedrooms  beds  \n",
      "0  Brooklyn Heights       1.0   1.0  \n",
      "1    Hell's Kitchen       3.0   3.0  \n",
      "2            Harlem       1.0   3.0  \n",
      "3      Lower Haight       2.0   2.0  \n",
      "4  Columbia Heights       0.0   1.0  \n"
     ]
    }
   ],
   "source": [
    "\n",
    "columns_to_drop = [\n",
    "    'id', 'description', 'first_review', 'host_has_profile_pic', \n",
    "    'host_identity_verified', 'host_response_rate', 'host_since', \n",
    "    'last_review', 'latitude', 'longitude', 'name', 'number_of_reviews', \n",
    "    'review_scores_rating', 'thumbnail_url', 'zipcode'\n",
    "]\n",
    "\n",
    "\n",
    "Data.drop(columns=columns_to_drop, inplace=True)\n",
    "\n",
    "print(Data.head())"
   ]
  },
  {
   "cell_type": "code",
   "execution_count": 4,
   "metadata": {},
   "outputs": [
    {
     "name": "stdout",
     "output_type": "stream",
     "text": [
      "<class 'pandas.core.frame.DataFrame'>\n",
      "RangeIndex: 74111 entries, 0 to 74110\n",
      "Data columns (total 14 columns):\n",
      " #   Column               Non-Null Count  Dtype  \n",
      "---  ------               --------------  -----  \n",
      " 0   log_price            74111 non-null  float64\n",
      " 1   property_type        74111 non-null  object \n",
      " 2   room_type            74111 non-null  object \n",
      " 3   amenities            74111 non-null  object \n",
      " 4   accommodates         74111 non-null  int64  \n",
      " 5   bathrooms            73911 non-null  float64\n",
      " 6   bed_type             74111 non-null  object \n",
      " 7   cancellation_policy  74111 non-null  object \n",
      " 8   cleaning_fee         74111 non-null  bool   \n",
      " 9   city                 74111 non-null  object \n",
      " 10  instant_bookable     74111 non-null  object \n",
      " 11  neighbourhood        67239 non-null  object \n",
      " 12  bedrooms             74020 non-null  float64\n",
      " 13  beds                 73980 non-null  float64\n",
      "dtypes: bool(1), float64(4), int64(1), object(8)\n",
      "memory usage: 7.4+ MB\n"
     ]
    }
   ],
   "source": [
    "Data.info()"
   ]
  },
  {
   "cell_type": "code",
   "execution_count": 5,
   "metadata": {},
   "outputs": [
    {
     "name": "stdout",
     "output_type": "stream",
     "text": [
      "   log_price property_type        room_type  \\\n",
      "0   5.010635     Apartment  Entire home/apt   \n",
      "1   5.129899     Apartment  Entire home/apt   \n",
      "2   4.976734     Apartment  Entire home/apt   \n",
      "3   6.620073         House  Entire home/apt   \n",
      "4   4.744932     Apartment  Entire home/apt   \n",
      "\n",
      "                                           amenities  accommodates  bathrooms  \\\n",
      "0  {\"Wireless Internet\",\"Air conditioning\",Kitche...             3        1.0   \n",
      "1  {\"Wireless Internet\",\"Air conditioning\",Kitche...             7        1.0   \n",
      "2  {TV,\"Cable TV\",\"Wireless Internet\",\"Air condit...             5        1.0   \n",
      "3  {TV,\"Cable TV\",Internet,\"Wireless Internet\",Ki...             4        1.0   \n",
      "4  {TV,Internet,\"Wireless Internet\",\"Air conditio...             2        1.0   \n",
      "\n",
      "   bed_type cancellation_policy  cleaning_fee city instant_bookable  \\\n",
      "0  Real Bed              strict          True  NYC                f   \n",
      "1  Real Bed              strict          True  NYC                t   \n",
      "2  Real Bed            moderate          True  NYC                t   \n",
      "3  Real Bed            flexible          True   SF                f   \n",
      "4  Real Bed            moderate          True   DC                t   \n",
      "\n",
      "      neighbourhood  bedrooms  beds  price  \n",
      "0  Brooklyn Heights       1.0   1.0  150.0  \n",
      "1    Hell's Kitchen       3.0   3.0  169.0  \n",
      "2            Harlem       1.0   3.0  145.0  \n",
      "3      Lower Haight       2.0   2.0  750.0  \n",
      "4  Columbia Heights       0.0   1.0  115.0  \n"
     ]
    }
   ],
   "source": [
    "# Transformer la colonne log_price en une colonne price\n",
    "Data['price'] = np.exp(Data['log_price'])\n",
    "\n",
    "# Afficher les premières lignes du DataFrame modifié\n",
    "print(Data.head())"
   ]
  },
  {
   "cell_type": "code",
   "execution_count": 6,
   "metadata": {},
   "outputs": [
    {
     "name": "stdout",
     "output_type": "stream",
     "text": [
      "   log_price property_type        room_type  \\\n",
      "0   5.010635     Apartment  Entire home/apt   \n",
      "1   5.129899     Apartment  Entire home/apt   \n",
      "2   4.976734     Apartment  Entire home/apt   \n",
      "3   6.620073         House  Entire home/apt   \n",
      "4   4.744932     Apartment  Entire home/apt   \n",
      "\n",
      "                                           amenities  accommodates  bathrooms  \\\n",
      "0  {\"Wireless Internet\",\"Air conditioning\",Kitche...             3        1.0   \n",
      "1  {\"Wireless Internet\",\"Air conditioning\",Kitche...             7        1.0   \n",
      "2  {TV,\"Cable TV\",\"Wireless Internet\",\"Air condit...             5        1.0   \n",
      "3  {TV,\"Cable TV\",Internet,\"Wireless Internet\",Ki...             4        1.0   \n",
      "4  {TV,Internet,\"Wireless Internet\",\"Air conditio...             2        1.0   \n",
      "\n",
      "   bed_type cancellation_policy  cleaning_fee city instant_bookable  \\\n",
      "0  Real Bed              strict          True  NYC                f   \n",
      "1  Real Bed              strict          True  NYC                t   \n",
      "2  Real Bed            moderate          True  NYC                t   \n",
      "3  Real Bed            flexible          True   SF                f   \n",
      "4  Real Bed            moderate          True   DC                t   \n",
      "\n",
      "      neighbourhood  bedrooms  beds  price  \n",
      "0  Brooklyn Heights       1.0   1.0  150.0  \n",
      "1    Hell's Kitchen       3.0   3.0  169.0  \n",
      "2            Harlem       1.0   3.0  145.0  \n",
      "3      Lower Haight       2.0   2.0  750.0  \n",
      "4  Columbia Heights       0.0   1.0  115.0  \n"
     ]
    }
   ],
   "source": [
    "# Identifier les lignes où la colonne des commodités contient '{}'\n",
    "rows_to_drop = Data[Data['amenities'] == '{}'].index\n",
    "\n",
    "# Supprimer ces lignes du DataFrame\n",
    "Data.drop(rows_to_drop, inplace=True)\n",
    "\n",
    "# Afficher les premières lignes du DataFrame modifié\n",
    "print(Data.head())"
   ]
  },
  {
   "cell_type": "code",
   "execution_count": 7,
   "metadata": {},
   "outputs": [
    {
     "name": "stdout",
     "output_type": "stream",
     "text": [
      "Nombre de doublons : 249\n",
      "   log_price property_type        room_type  \\\n",
      "0   5.010635     Apartment  Entire home/apt   \n",
      "1   5.129899     Apartment  Entire home/apt   \n",
      "2   4.976734     Apartment  Entire home/apt   \n",
      "3   6.620073         House  Entire home/apt   \n",
      "4   4.744932     Apartment  Entire home/apt   \n",
      "\n",
      "                                           amenities  accommodates  bathrooms  \\\n",
      "0  {\"Wireless Internet\",\"Air conditioning\",Kitche...             3        1.0   \n",
      "1  {\"Wireless Internet\",\"Air conditioning\",Kitche...             7        1.0   \n",
      "2  {TV,\"Cable TV\",\"Wireless Internet\",\"Air condit...             5        1.0   \n",
      "3  {TV,\"Cable TV\",Internet,\"Wireless Internet\",Ki...             4        1.0   \n",
      "4  {TV,Internet,\"Wireless Internet\",\"Air conditio...             2        1.0   \n",
      "\n",
      "   bed_type cancellation_policy  cleaning_fee city instant_bookable  \\\n",
      "0  Real Bed              strict          True  NYC                f   \n",
      "1  Real Bed              strict          True  NYC                t   \n",
      "2  Real Bed            moderate          True  NYC                t   \n",
      "3  Real Bed            flexible          True   SF                f   \n",
      "4  Real Bed            moderate          True   DC                t   \n",
      "\n",
      "      neighbourhood  bedrooms  beds  price  \n",
      "0  Brooklyn Heights       1.0   1.0  150.0  \n",
      "1    Hell's Kitchen       3.0   3.0  169.0  \n",
      "2            Harlem       1.0   3.0  145.0  \n",
      "3      Lower Haight       2.0   2.0  750.0  \n",
      "4  Columbia Heights       0.0   1.0  115.0  \n"
     ]
    }
   ],
   "source": [
    "# Compter le nombre de doublons\n",
    "nombre_doublons = Data.duplicated().sum()\n",
    "print(f\"Nombre de doublons : {nombre_doublons}\")\n",
    "\n",
    "# Supprimer les doublons\n",
    "Data.drop_duplicates(inplace=True)\n",
    "\n",
    "# Afficher les premières lignes du DataFrame modifié\n",
    "print(Data.head())"
   ]
  },
  {
   "cell_type": "code",
   "execution_count": 8,
   "metadata": {},
   "outputs": [
    {
     "name": "stdout",
     "output_type": "stream",
     "text": [
      "Nombre de samples restants : 72473\n"
     ]
    }
   ],
   "source": [
    "# Filtrer les locations dont le prix est compris entre 20 et 1000 dollars\n",
    "data_filtered = Data[(Data['price'] >= 20) & (Data['price'] <= 1000)]\n",
    "\n",
    "# Compter le nombre de samples restants\n",
    "nombre_samples_restants = data_filtered.shape[0]\n",
    "print(f\"Nombre de samples restants : {nombre_samples_restants}\")"
   ]
  },
  {
   "cell_type": "code",
   "execution_count": 9,
   "metadata": {},
   "outputs": [
    {
     "data": {
      "image/png": "[encoded data removed]",
      "text/plain": [
       "<Figure size 640x480 with 1 Axes>"
      ]
     },
     "metadata": {},
     "output_type": "display_data"
    }
   ],
   "source": [
    "# Afficher la répartition des prix avec un découpage en 100 bacs\n",
    "plt.hist(data_filtered['price'], bins=100, edgecolor='black')\n",
    "plt.title('Répartition des prix')\n",
    "plt.xlabel('Prix')\n",
    "plt.ylabel('Fréquence')\n",
    "plt.show()"
   ]
  },
  {
   "cell_type": "code",
   "execution_count": 10,
   "metadata": {},
   "outputs": [
    {
     "data": {
      "image/png": "[encoded data removed]",
      "text/plain": [
       "<Figure size 640x480 with 1 Axes>"
      ]
     },
     "metadata": {},
     "output_type": "display_data"
    }
   ],
   "source": [
    "# Filtrer les locations dont le prix est inférieur à 500 dollars\n",
    "data_filtered = Data[Data['price'] < 500]\n",
    "\n",
    "# Identifier les trois types de propriétés les plus fréquentes\n",
    "top_properties = data_filtered['property_type'].value_counts().nlargest(3).index\n",
    "\n",
    "# Filtrer le DataFrame pour ne conserver que ces trois types de propriétés\n",
    "data_top_properties = data_filtered[data_filtered['property_type'].isin(top_properties)]\n",
    "\n",
    "# Afficher la répartition de ces trois types de propriétés via un histplot\n",
    "sns.histplot(data=data_top_properties, x='property_type', hue='property_type', multiple='stack')\n",
    "plt.title('Répartition des trois types de propriétés les plus fréquentes')\n",
    "plt.xlabel('Type de propriété')\n",
    "plt.ylabel('Nombre')\n",
    "plt.show()"
   ]
  },
  {
   "cell_type": "code",
   "execution_count": 11,
   "metadata": {},
   "outputs": [
    {
     "name": "stdout",
     "output_type": "stream",
     "text": [
      "property_type\n",
      "Apartment      133.883819\n",
      "Condominium    168.761523\n",
      "House          138.414695\n",
      "Name: price, dtype: float64\n",
      "Type de propriété: Apartment, Prix moyen: 133.88\n",
      "Type de propriété: Condominium, Prix moyen: 168.76\n",
      "Type de propriété: House, Prix moyen: 138.41\n"
     ]
    }
   ],
   "source": [
    "# Calculer la valeur moyenne des prix pour chaque type de propriété parmi les trois types les plus fréquents\n",
    "mean_prices = data_top_properties.groupby('property_type')['price'].mean()\n",
    "\n",
    "# Afficher les valeurs moyennes\n",
    "print(mean_prices)\n",
    "\n",
    "# Analyser les différences apparentes\n",
    "for property_type, mean_price in mean_prices.items():\n",
    "    print(f\"Type de propriété: {property_type}, Prix moyen: {mean_price:.2f}\")"
   ]
  },
  {
   "cell_type": "markdown",
   "metadata": {},
   "source": [
    "En observant les valeurs moyennes des prix pour chaque type de propriété, on peut constater des différences apparentes. Ces différences peuvent s'expliquer par plusieurs facteurs :\n",
    "\n",
    "Localisation : Certaines propriétés peuvent être situées dans des zones plus prisées, ce qui augmente leur prix.\n",
    "Taille et équipements : Les propriétés plus grandes ou mieux équipées peuvent avoir des prix plus élevés.\n",
    "Demande et offre : La popularité de certains types de propriétés peut influencer leur prix moyen."
   ]
  },
  {
   "cell_type": "code",
   "execution_count": 12,
   "metadata": {},
   "outputs": [
    {
     "data": {
      "image/png": "[encoded data removed]",
      "text/plain": [
       "<Figure size 1800x600 with 3 Axes>"
      ]
     },
     "metadata": {},
     "output_type": "display_data"
    }
   ],
   "source": [
    "# Créer des DataFrames séparés pour chaque type de propriété\n",
    "data_property_1 = data_filtered[data_filtered['property_type'] == top_properties[0]]\n",
    "data_property_2 = data_filtered[data_filtered['property_type'] == top_properties[1]]\n",
    "data_property_3 = data_filtered[data_filtered['property_type'] == top_properties[2]]\n",
    "\n",
    "# Afficher trois histplots, un pour chaque type de propriété, avec l'option stat='percent'\n",
    "plt.figure(figsize=(18, 6))\n",
    "\n",
    "plt.subplot(1, 3, 1)\n",
    "sns.histplot(data_property_1['price'], bins=30, stat='percent', edgecolor='black')\n",
    "plt.title(f'Repartition des prix pour {top_properties[0]}')\n",
    "plt.xlabel('Prix')\n",
    "plt.ylabel('Pourcentage')\n",
    "\n",
    "plt.subplot(1, 3, 2)\n",
    "sns.histplot(data_property_2['price'], bins=30, stat='percent', edgecolor='black')\n",
    "plt.title(f'Repartition des prix pour {top_properties[1]}')\n",
    "plt.xlabel('Prix')\n",
    "plt.ylabel('Pourcentage')\n",
    "\n",
    "plt.subplot(1, 3, 3)\n",
    "sns.histplot(data_property_3['price'], bins=30, stat='percent', edgecolor='black')\n",
    "plt.title(f'Repartition des prix pour {top_properties[2]}')\n",
    "plt.xlabel('Prix')\n",
    "plt.ylabel('Pourcentage')\n",
    "\n",
    "plt.tight_layout()\n",
    "plt.show()"
   ]
  },
  {
   "cell_type": "markdown",
   "metadata": {},
   "source": [
    "Lorsque l'on se concentre uniquement sur la valeur moyenne des prix, plusieurs aspects importants peuvent être négligés :\n",
    "\n",
    "Distribution des Données : La moyenne ne donne pas d'information sur la distribution des prix. Par exemple, deux types de propriétés peuvent avoir la même moyenne mais des distributions très différentes (une avec des prix très concentrés autour de la moyenne et l'autre avec des prix très dispersés).\n",
    "\n",
    "Présence de Valeurs Extrêmes : Les moyennes peuvent être fortement influencées par des valeurs extrêmes (outliers). Une propriété très chère peut augmenter la moyenne de manière significative, même si la plupart des propriétés sont moins chères.\n",
    "\n",
    "Variabilité : La moyenne ne reflète pas la variabilité des prix. Deux types de propriétés peuvent avoir la même moyenne mais des écarts-types très différents, indiquant des niveaux de variabilité différents.\n",
    "\n",
    "Représentativité : La moyenne peut ne pas être représentative de la majorité des données. Par exemple, si la distribution est asymétrique, la médiane pourrait être une mesure plus représentative."
   ]
  },
  {
   "cell_type": "markdown",
   "metadata": {},
   "source": [
    "EXO 2"
   ]
  },
  {
   "cell_type": "code",
   "execution_count": 13,
   "metadata": {},
   "outputs": [
    {
     "name": "stdout",
     "output_type": "stream",
     "text": [
      "Feature: property_type, Nombre de valeurs différentes: 34\n",
      "Feature: room_type, Nombre de valeurs différentes: 3\n",
      "Feature: amenities, Nombre de valeurs différentes: 67121\n",
      "Feature: bed_type, Nombre de valeurs différentes: 5\n",
      "Feature: cancellation_policy, Nombre de valeurs différentes: 5\n",
      "Feature: city, Nombre de valeurs différentes: 6\n",
      "Feature: instant_bookable, Nombre de valeurs différentes: 2\n",
      "Feature: neighbourhood, Nombre de valeurs différentes: 619\n"
     ]
    }
   ],
   "source": [
    "# Identifier les colonnes de type objet\n",
    "object_columns = Data.select_dtypes(include=['object']).columns.tolist()\n",
    "\n",
    "# Afficher le nombre de valeurs différentes pour chaque colonne de type objet\n",
    "for column in object_columns:\n",
    "    unique_values_count = Data[column].nunique()\n",
    "    print(f\"Feature: {column}, Nombre de valeurs différentes: {unique_values_count}\")"
   ]
  },
  {
   "cell_type": "code",
   "execution_count": 14,
   "metadata": {},
   "outputs": [
    {
     "name": "stdout",
     "output_type": "stream",
     "text": [
      "Nombre de samples avec 't' dans instant_bookable: 19270\n",
      "Prix moyen des locations avec 't': 153.13\n",
      "Nombre de samples avec 'f' dans instant_bookable: 54006\n",
      "Prix moyen des locations avec 'f': 162.94\n"
     ]
    }
   ],
   "source": [
    "# Compter le nombre de samples avec la valeur 't' ou 'f' dans la colonne instant_bookable\n",
    "count_t = Data[Data['instant_bookable'] == 't'].shape[0]\n",
    "count_f = Data[Data['instant_bookable'] == 'f'].shape[0]\n",
    "\n",
    "# Calculer le prix moyen des locations pour chaque catégorie ('t' et 'f')\n",
    "mean_price_t = Data[Data['instant_bookable'] == 't']['price'].mean()\n",
    "mean_price_f = Data[Data['instant_bookable'] == 'f']['price'].mean()\n",
    "\n",
    "# Afficher les résultats\n",
    "print(f\"Nombre de samples avec 't' dans instant_bookable: {count_t}\")\n",
    "print(f\"Prix moyen des locations avec 't': {mean_price_t:.2f}\")\n",
    "\n",
    "print(f\"Nombre de samples avec 'f' dans instant_bookable: {count_f}\")\n",
    "print(f\"Prix moyen des locations avec 'f': {mean_price_f:.2f}\")"
   ]
  },
  {
   "cell_type": "code",
   "execution_count": 15,
   "metadata": {},
   "outputs": [
    {
     "name": "stdout",
     "output_type": "stream",
     "text": [
      "Nombre de valeurs manquantes dans instant_bookable: 0\n"
     ]
    }
   ],
   "source": [
    "# Vérifier s'il y a des données manquantes dans la colonne instant_bookable\n",
    "missing_values = Data['instant_bookable'].isnull().sum()\n",
    "\n",
    "# Afficher le résultat\n",
    "print(f\"Nombre de valeurs manquantes dans instant_bookable: {missing_values}\")"
   ]
  },
  {
   "cell_type": "markdown",
   "metadata": {},
   "source": [
    "NON"
   ]
  },
  {
   "cell_type": "code",
   "execution_count": 16,
   "metadata": {},
   "outputs": [
    {
     "data": {
      "image/png": "[encoded data removed]",
      "text/plain": [
       "<Figure size 1200x600 with 2 Axes>"
      ]
     },
     "metadata": {},
     "output_type": "display_data"
    }
   ],
   "source": [
    "# Utiliser la fonction groupby pour créer des DataFrames pour chaque catégorie de instant_bookable\n",
    "grouped = data_filtered.groupby('instant_bookable')\n",
    "\n",
    "# Récupérer les DataFrames pour chaque catégorie\n",
    "data_instant_bookable_t = grouped.get_group('t')\n",
    "data_instant_bookable_f = grouped.get_group('f')\n",
    "\n",
    "# Afficher la répartition des prix de chacune des catégories via un histogramme normalisé\n",
    "plt.figure(figsize=(12, 6))\n",
    "\n",
    "plt.subplot(1, 2, 1)\n",
    "sns.histplot(data_instant_bookable_t['price'], bins=30, stat='percent', edgecolor='black')\n",
    "plt.title(\"Répartition des prix pour 'instant_bookable' = 't'\")\n",
    "plt.xlabel('Prix')\n",
    "plt.ylabel('Pourcentage')\n",
    "\n",
    "plt.subplot(1, 2, 2)\n",
    "sns.histplot(data_instant_bookable_f['price'], bins=30, stat='percent', edgecolor='black')\n",
    "plt.title(\"Répartition des prix pour 'instant_bookable' = 'f'\")\n",
    "plt.xlabel('Prix')\n",
    "plt.ylabel('Pourcentage')\n",
    "\n",
    "plt.tight_layout()\n",
    "plt.show()"
   ]
  },
  {
   "cell_type": "markdown",
   "metadata": {},
   "source": [
    "NON"
   ]
  },
  {
   "cell_type": "markdown",
   "metadata": {},
   "source": [
    "EXO 3"
   ]
  },
  {
   "cell_type": "code",
   "execution_count": 17,
   "metadata": {},
   "outputs": [
    {
     "name": "stdout",
     "output_type": "stream",
     "text": [
      "                 count        mean\n",
      "room_type                         \n",
      "Entire home/apt  38791  181.167230\n",
      "Private room     30040   84.128728\n",
      "Shared room       2035   58.179853\n",
      "Type de chambre: Entire home/apt, Nombre: 38791.0, Prix moyen: 181.17\n",
      "Type de chambre: Private room, Nombre: 30040.0, Prix moyen: 84.13\n",
      "Type de chambre: Shared room, Nombre: 2035.0, Prix moyen: 58.18\n"
     ]
    }
   ],
   "source": [
    "# Calculer le nombre et la moyenne des prix pour chaque type de chambre (room_type)\n",
    "room_type_stats = data_filtered.groupby('room_type')['price'].agg(['count', 'mean'])\n",
    "\n",
    "# Afficher les résultats\n",
    "print(room_type_stats)\n",
    "\n",
    "# Analyser les résultats\n",
    "for room_type, stats in room_type_stats.iterrows():\n",
    "    print(f\"Type de chambre: {room_type}, Nombre: {stats['count']}, Prix moyen: {stats['mean']:.2f}\")"
   ]
  },
  {
   "cell_type": "markdown",
   "metadata": {},
   "source": [
    "Les prix moyens ont une assez grandes différences, il en est de meme pour leurs nombres ce qui va probablement influencer le poid de son information sur l'ensemble du dataframe."
   ]
  },
  {
   "cell_type": "markdown",
   "metadata": {},
   "source": [
    "Une seule colonne suffit."
   ]
  },
  {
   "cell_type": "code",
   "execution_count": 18,
   "metadata": {},
   "outputs": [
    {
     "data": {
      "image/png": "[encoded data removed]",
      "text/plain": [
       "<Figure size 1000x600 with 1 Axes>"
      ]
     },
     "metadata": {},
     "output_type": "display_data"
    }
   ],
   "source": [
    "# Afficher la variation des prix des locations avec la fonction histplot\n",
    "plt.figure(figsize=(10, 6))\n",
    "sns.histplot(data_filtered['price'], bins=30, edgecolor='black', kde=True)\n",
    "plt.title('Variation des prix des locations')\n",
    "plt.xlabel('Prix')\n",
    "plt.ylabel('Fréquence')\n",
    "plt.show()"
   ]
  },
  {
   "cell_type": "markdown",
   "metadata": {},
   "source": [
    "L'encodage One-Hot crée des colonnes binaires pour chaque type de chambre, ce qui permet de représenter les catégories de manière non ordonnée et évite les problèmes liés à l'utilisation de la norme euclidienne pour comparer les samples. Cette méthode est généralement la meilleure pour les algorithmes d'apprentissage automatique."
   ]
  },
  {
   "cell_type": "markdown",
   "metadata": {},
   "source": [
    "EXO 4"
   ]
  },
  {
   "cell_type": "code",
   "execution_count": 19,
   "metadata": {},
   "outputs": [
    {
     "name": "stdout",
     "output_type": "stream",
     "text": [
      "Nombre de types de propriétés distincts : 34\n",
      "                    count        mean\n",
      "property_type                        \n",
      "Casa particular         1   80.000000\n",
      "Lighthouse              1  250.000000\n",
      "Island                  1  150.000000\n",
      "Train                   2  182.500000\n",
      "Cave                    2  136.000000\n",
      "Tipi                    3  232.333333\n",
      "Earth House             3  141.666667\n",
      "Chalet                  5  138.000000\n",
      "Treehouse               6  125.666667\n",
      "Hut                     8   63.625000\n",
      "Yurt                    9  163.444444\n",
      "Vacation home          10  233.200000\n",
      "Castle                 12  216.166667\n",
      "Tent                   16   75.875000\n",
      "Serviced apartment     20  175.350000\n",
      "Boat                   56  182.928571\n",
      "Hostel                 62   59.161290\n",
      "Boutique hotel         64  159.515625\n",
      "Timeshare              65  250.707692\n",
      "In-law                 71  135.929577\n",
      "Cabin                  71  116.971831\n",
      "Camper/RV              90  127.255556\n",
      "Guest suite           121  124.561983\n",
      "Dorm                  132   51.000000\n",
      "Villa                 132  130.916667\n",
      "Bungalow              363  130.672176\n",
      "Bed & Breakfast       437  112.524027\n",
      "Guesthouse            494  118.552632\n",
      "Other                 548  147.859489\n",
      "Loft                 1158  161.851468\n",
      "Townhouse            1592  141.692839\n",
      "Condominium          2495  168.761523\n",
      "House               15175  138.414695\n",
      "Apartment           47641  133.883819\n"
     ]
    }
   ],
   "source": [
    "# Utiliser la fonction groupby et aggregate pour calculer le nombre et le prix moyen de chaque type de propriété\n",
    "property_type_stats = data_filtered.groupby('property_type')['price'].aggregate(['count', 'mean'])\n",
    "\n",
    "# Trier les résultats par ordre croissant du nombre de chaque propriété\n",
    "property_type_stats_sorted = property_type_stats.sort_values(by='count')\n",
    "\n",
    "# Calculer le nombre de types de propriétés distincts\n",
    "num_property_types = data_filtered['property_type'].nunique()\n",
    "\n",
    "# Afficher le nombre de types de propriétés\n",
    "print(f\"Nombre de types de propriétés distincts : {num_property_types}\")\n",
    "\n",
    "# Afficher les résultats\n",
    "print(property_type_stats_sorted)"
   ]
  },
  {
   "cell_type": "code",
   "execution_count": 20,
   "metadata": {},
   "outputs": [
    {
     "name": "stdout",
     "output_type": "stream",
     "text": [
      "   log_price property_type        room_type  \\\n",
      "0   5.010635     Apartment  Entire home/apt   \n",
      "1   5.129899     Apartment  Entire home/apt   \n",
      "2   4.976734     Apartment  Entire home/apt   \n",
      "4   4.744932     Apartment  Entire home/apt   \n",
      "5   4.442651     Apartment     Private room   \n",
      "\n",
      "                                           amenities  accommodates  bathrooms  \\\n",
      "0  {\"Wireless Internet\",\"Air conditioning\",Kitche...             3        1.0   \n",
      "1  {\"Wireless Internet\",\"Air conditioning\",Kitche...             7        1.0   \n",
      "2  {TV,\"Cable TV\",\"Wireless Internet\",\"Air condit...             5        1.0   \n",
      "4  {TV,Internet,\"Wireless Internet\",\"Air conditio...             2        1.0   \n",
      "5  {TV,\"Wireless Internet\",Heating,\"Smoke detecto...             2        1.0   \n",
      "\n",
      "   bed_type cancellation_policy  cleaning_fee city instant_bookable  \\\n",
      "0  Real Bed              strict          True  NYC                f   \n",
      "1  Real Bed              strict          True  NYC                t   \n",
      "2  Real Bed            moderate          True  NYC                t   \n",
      "4  Real Bed            moderate          True   DC                t   \n",
      "5  Real Bed              strict          True   SF                t   \n",
      "\n",
      "      neighbourhood  bedrooms  beds  price  \n",
      "0  Brooklyn Heights       1.0   1.0  150.0  \n",
      "1    Hell's Kitchen       3.0   3.0  169.0  \n",
      "2            Harlem       1.0   3.0  145.0  \n",
      "4  Columbia Heights       0.0   1.0  115.0  \n",
      "5        Noe Valley       1.0   1.0   85.0  \n"
     ]
    }
   ],
   "source": [
    "# Identifier les types de propriétés ayant un prix moyen supérieur à 200 dollars\n",
    "high_price_properties = property_type_stats[property_type_stats['mean'] > 200].index.tolist()\n",
    "\n",
    "# Transformer les valeurs de ces types de propriétés en \"Timeshare\" en utilisant .loc\n",
    "data_filtered.loc[data_filtered['property_type'].isin(high_price_properties), 'property_type'] = 'Timeshare'\n",
    "\n",
    "# Afficher les premières lignes du DataFrame pour vérifier les transformations\n",
    "print(data_filtered.head())"
   ]
  },
  {
   "cell_type": "code",
   "execution_count": 21,
   "metadata": {},
   "outputs": [
    {
     "name": "stdout",
     "output_type": "stream",
     "text": [
      "   log_price property_type        room_type  \\\n",
      "0   5.010635     Apartment  Entire home/apt   \n",
      "1   5.129899     Apartment  Entire home/apt   \n",
      "2   4.976734     Apartment  Entire home/apt   \n",
      "4   4.744932     Apartment  Entire home/apt   \n",
      "5   4.442651     Apartment     Private room   \n",
      "\n",
      "                                           amenities  accommodates  bathrooms  \\\n",
      "0  {\"Wireless Internet\",\"Air conditioning\",Kitche...             3        1.0   \n",
      "1  {\"Wireless Internet\",\"Air conditioning\",Kitche...             7        1.0   \n",
      "2  {TV,\"Cable TV\",\"Wireless Internet\",\"Air condit...             5        1.0   \n",
      "4  {TV,Internet,\"Wireless Internet\",\"Air conditio...             2        1.0   \n",
      "5  {TV,\"Wireless Internet\",Heating,\"Smoke detecto...             2        1.0   \n",
      "\n",
      "   bed_type cancellation_policy  cleaning_fee city instant_bookable  \\\n",
      "0  Real Bed              strict          True  NYC                f   \n",
      "1  Real Bed              strict          True  NYC                t   \n",
      "2  Real Bed            moderate          True  NYC                t   \n",
      "4  Real Bed            moderate          True   DC                t   \n",
      "5  Real Bed              strict          True   SF                t   \n",
      "\n",
      "      neighbourhood  bedrooms  beds  price  \n",
      "0  Brooklyn Heights       1.0   1.0  150.0  \n",
      "1    Hell's Kitchen       3.0   3.0  169.0  \n",
      "2            Harlem       1.0   3.0  145.0  \n",
      "4  Columbia Heights       0.0   1.0  115.0  \n",
      "5        Noe Valley       1.0   1.0   85.0  \n"
     ]
    }
   ],
   "source": [
    "# Utiliser la fonction groupby et aggregate pour calculer le nombre de chaque type de propriété\n",
    "property_type_counts = data_filtered['property_type'].value_counts()\n",
    "\n",
    "# Identifier les types de propriétés ayant moins de 20 valeurs\n",
    "low_count_properties = property_type_counts[property_type_counts < 20].index.tolist()\n",
    "\n",
    "# Supprimer les lignes correspondant à ces types de propriétés du DataFrame\n",
    "data_filtered = data_filtered[~data_filtered['property_type'].isin(low_count_properties)]\n",
    "\n",
    "# Afficher les premières lignes du DataFrame pour vérifier les suppressions\n",
    "print(data_filtered.head())"
   ]
  },
  {
   "cell_type": "markdown",
   "metadata": {},
   "source": [
    "EXO 5"
   ]
  },
  {
   "cell_type": "code",
   "execution_count": 22,
   "metadata": {},
   "outputs": [
    {
     "name": "stdout",
     "output_type": "stream",
     "text": [
      "               count        mean\n",
      "bed_type                        \n",
      "Airbed           453   85.061810\n",
      "Couch            255   81.384314\n",
      "Futon            735   86.617687\n",
      "Pull-out Sofa    580  100.653448\n",
      "Real Bed       68790  137.898270\n",
      "Type de lit: Airbed, Nombre de locations: 453.0, Prix moyen: 85.06\n",
      "Type de lit: Couch, Nombre de locations: 255.0, Prix moyen: 81.38\n",
      "Type de lit: Futon, Nombre de locations: 735.0, Prix moyen: 86.62\n",
      "Type de lit: Pull-out Sofa, Nombre de locations: 580.0, Prix moyen: 100.65\n",
      "Type de lit: Real Bed, Nombre de locations: 68790.0, Prix moyen: 137.90\n"
     ]
    }
   ],
   "source": [
    "# Utiliser la fonction groupby et aggregate pour calculer le nombre de locations et le prix moyen pour chaque type de lit (bed_type)\n",
    "bed_type_stats = data_filtered.groupby('bed_type')['price'].aggregate(['count', 'mean'])\n",
    "\n",
    "# Afficher les résultats\n",
    "print(bed_type_stats)\n",
    "\n",
    "# Analyser les résultats\n",
    "for bed_type, stats in bed_type_stats.iterrows():\n",
    "    print(f\"Type de lit: {bed_type}, Nombre de locations: {stats['count']}, Prix moyen: {stats['mean']:.2f}\")"
   ]
  },
  {
   "cell_type": "markdown",
   "metadata": {},
   "source": [
    "La majoritée des lits sont des real bed et ont une valeur supérieur aux autres."
   ]
  },
  {
   "cell_type": "code",
   "execution_count": 23,
   "metadata": {},
   "outputs": [
    {
     "name": "stdout",
     "output_type": "stream",
     "text": [
      "bed_type                Airbed       Couch       Futon  Pull-out Sofa  \\\n",
      "property_type                                                           \n",
      "Apartment            82.023188   78.062827   83.690229      98.951923   \n",
      "Bed & Breakfast      55.000000   51.666667   80.857143      41.000000   \n",
      "Boat                       NaN         NaN         NaN            NaN   \n",
      "Boutique hotel             NaN         NaN         NaN            NaN   \n",
      "Bungalow            108.000000   99.000000  101.125000      91.250000   \n",
      "Cabin                      NaN         NaN  112.800000      80.000000   \n",
      "Camper/RV                  NaN         NaN  108.666667      62.000000   \n",
      "Condominium         113.208333   92.538462  110.809524     112.291667   \n",
      "Dorm                       NaN         NaN  270.500000            NaN   \n",
      "Guest suite                NaN         NaN         NaN      89.500000   \n",
      "Guesthouse                 NaN         NaN   79.000000     103.333333   \n",
      "Hostel                     NaN         NaN         NaN            NaN   \n",
      "House                82.310345   86.296296   79.409091     102.108696   \n",
      "In-law                     NaN         NaN         NaN     130.000000   \n",
      "Loft                 87.666667   99.714286  128.200000      99.714286   \n",
      "Other               135.400000  112.500000   94.000000     132.714286   \n",
      "Serviced apartment         NaN         NaN         NaN     135.000000   \n",
      "Timeshare                  NaN         NaN   87.000000            NaN   \n",
      "Townhouse           115.272727   91.600000  106.875000     124.500000   \n",
      "Villa                55.000000         NaN         NaN            NaN   \n",
      "\n",
      "bed_type              Real Bed  \n",
      "property_type                   \n",
      "Apartment           135.338729  \n",
      "Bed & Breakfast     114.263033  \n",
      "Boat                182.928571  \n",
      "Boutique hotel      159.515625  \n",
      "Bungalow            131.957020  \n",
      "Cabin               117.861538  \n",
      "Camper/RV           129.447059  \n",
      "Condominium         170.790717  \n",
      "Dorm                 47.623077  \n",
      "Guest suite         125.151261  \n",
      "Guesthouse          118.821355  \n",
      "Hostel               59.161290  \n",
      "House               139.565885  \n",
      "In-law              136.014286  \n",
      "Loft                163.629696  \n",
      "Other               149.555769  \n",
      "Serviced apartment  177.473684  \n",
      "Timeshare           245.355556  \n",
      "Townhouse           142.744473  \n",
      "Villa               131.496183  \n"
     ]
    }
   ],
   "source": [
    "# Utiliser la fonction groupby sur les deux features property_type et bed_type pour calculer le prix moyen\n",
    "price_means = data_filtered.groupby(['property_type', 'bed_type'])['price'].mean().reset_index()\n",
    "\n",
    "# Utiliser la fonction pivot pour réorganiser le DataFrame\n",
    "price_means_pivot = price_means.pivot(index='property_type', columns='bed_type', values='price')\n",
    "\n",
    "# Afficher le DataFrame pivoté pour une lecture plus simple\n",
    "print(price_means_pivot)"
   ]
  },
  {
   "cell_type": "code",
   "execution_count": 24,
   "metadata": {},
   "outputs": [
    {
     "name": "stdout",
     "output_type": "stream",
     "text": [
      "bed_type            Airbed  Couch  Futon  Pull-out Sofa  Real Bed\n",
      "property_type                                                    \n",
      "Apartment            345.0  191.0  481.0          416.0   46208.0\n",
      "Bed & Breakfast        2.0    3.0    7.0            3.0     422.0\n",
      "Boat                   NaN    NaN    NaN            NaN      56.0\n",
      "Boutique hotel         NaN    NaN    NaN            NaN      64.0\n",
      "Bungalow               1.0    1.0    8.0            4.0     349.0\n",
      "Cabin                  NaN    NaN    5.0            1.0      65.0\n",
      "Camper/RV              NaN    NaN    3.0            2.0      85.0\n",
      "Condominium           24.0   13.0   21.0           24.0    2413.0\n",
      "Dorm                   NaN    NaN    2.0            NaN     130.0\n",
      "Guest suite            NaN    NaN    NaN            2.0     119.0\n",
      "Guesthouse             NaN    NaN    1.0            6.0     487.0\n",
      "Hostel                 NaN    NaN    NaN            NaN      62.0\n",
      "House                 58.0   27.0  154.0           92.0   14844.0\n",
      "In-law                 NaN    NaN    NaN            1.0      70.0\n",
      "Loft                   6.0    7.0   20.0            7.0    1118.0\n",
      "Other                  5.0    8.0    8.0            7.0     520.0\n",
      "Serviced apartment     NaN    NaN    NaN            1.0      19.0\n",
      "Timeshare              NaN    NaN    1.0            NaN      90.0\n",
      "Townhouse             11.0    5.0   24.0           14.0    1538.0\n",
      "Villa                  1.0    NaN    NaN            NaN     131.0\n"
     ]
    }
   ],
   "source": [
    "# Utiliser la fonction groupby sur les deux features property_type et bed_type pour calculer le nombre de locations\n",
    "location_counts = data_filtered.groupby(['property_type', 'bed_type'])['price'].count().reset_index()\n",
    "\n",
    "# Renommer la colonne 'price' en 'count' pour refléter le nombre de locations\n",
    "location_counts.rename(columns={'price': 'count'}, inplace=True)\n",
    "\n",
    "# Utiliser la fonction pivot pour réorganiser le DataFrame\n",
    "location_counts_pivot = location_counts.pivot(index='property_type', columns='bed_type', values='count')\n",
    "\n",
    "# Afficher le DataFrame pivoté pour une lecture plus simple\n",
    "print(location_counts_pivot)"
   ]
  },
  {
   "cell_type": "markdown",
   "metadata": {},
   "source": [
    "Ils ne semblent pas avoir un impact conséquent sur le dataframe par contre la feature house a pour nombre 14 844 ce qui est le deuxième plus grand nombre après la feature appartement."
   ]
  },
  {
   "cell_type": "code",
   "execution_count": 25,
   "metadata": {},
   "outputs": [
    {
     "name": "stdout",
     "output_type": "stream",
     "text": [
      "   log_price property_type        room_type  \\\n",
      "0   5.010635     Apartment  Entire home/apt   \n",
      "1   5.129899     Apartment  Entire home/apt   \n",
      "2   4.976734     Apartment  Entire home/apt   \n",
      "4   4.744932     Apartment  Entire home/apt   \n",
      "5   4.442651     Apartment     Private room   \n",
      "\n",
      "                                           amenities  accommodates  bathrooms  \\\n",
      "0  {\"Wireless Internet\",\"Air conditioning\",Kitche...             3        1.0   \n",
      "1  {\"Wireless Internet\",\"Air conditioning\",Kitche...             7        1.0   \n",
      "2  {TV,\"Cable TV\",\"Wireless Internet\",\"Air condit...             5        1.0   \n",
      "4  {TV,Internet,\"Wireless Internet\",\"Air conditio...             2        1.0   \n",
      "5  {TV,\"Wireless Internet\",Heating,\"Smoke detecto...             2        1.0   \n",
      "\n",
      "  cancellation_policy  cleaning_fee city instant_bookable     neighbourhood  \\\n",
      "0              strict          True  NYC                f  Brooklyn Heights   \n",
      "1              strict          True  NYC                t    Hell's Kitchen   \n",
      "2            moderate          True  NYC                t            Harlem   \n",
      "4            moderate          True   DC                t  Columbia Heights   \n",
      "5              strict          True   SF                t        Noe Valley   \n",
      "\n",
      "   bedrooms  beds  price  bed_type_Airbed  bed_type_Couch  bed_type_Futon  \\\n",
      "0       1.0   1.0  150.0            False           False           False   \n",
      "1       3.0   3.0  169.0            False           False           False   \n",
      "2       1.0   3.0  145.0            False           False           False   \n",
      "4       0.0   1.0  115.0            False           False           False   \n",
      "5       1.0   1.0   85.0            False           False           False   \n",
      "\n",
      "   bed_type_Pull-out Sofa  bed_type_Real Bed  \n",
      "0                   False               True  \n",
      "1                   False               True  \n",
      "2                   False               True  \n",
      "4                   False               True  \n",
      "5                   False               True  \n"
     ]
    }
   ],
   "source": [
    "# Utiliser l'encodage One-Hot pour numériser les types de lits\n",
    "data_encoded = pd.get_dummies(data_filtered, columns=['bed_type'])\n",
    "\n",
    "# Afficher les premières lignes du DataFrame pour vérifier l'encodage\n",
    "print(data_encoded.head())\n"
   ]
  },
  {
   "cell_type": "markdown",
   "metadata": {},
   "source": [
    "EXO 6"
   ]
  },
  {
   "cell_type": "code",
   "execution_count": 26,
   "metadata": {},
   "outputs": [
    {
     "name": "stdout",
     "output_type": "stream",
     "text": [
      "              count        mean\n",
      "accommodates                   \n",
      "1              9173   74.500818\n",
      "2             31255  107.644377\n",
      "3              7635  135.848592\n",
      "4             11623  170.933408\n",
      "5              3238  199.121062\n",
      "6              4436  229.907800\n",
      "7               826  246.259080\n",
      "8              1415  267.479152\n",
      "9               226  280.314159\n",
      "10              482  279.280083\n",
      "11               58  281.517241\n",
      "12              154  306.396104\n",
      "13               30  323.700000\n",
      "14               65  295.723077\n",
      "15               33  288.515152\n",
      "16              164  299.500000\n",
      "Capacité d'accueil: 1, Nombre de locations: 9173.0, Prix moyen: 74.50\n",
      "Capacité d'accueil: 2, Nombre de locations: 31255.0, Prix moyen: 107.64\n",
      "Capacité d'accueil: 3, Nombre de locations: 7635.0, Prix moyen: 135.85\n",
      "Capacité d'accueil: 4, Nombre de locations: 11623.0, Prix moyen: 170.93\n",
      "Capacité d'accueil: 5, Nombre de locations: 3238.0, Prix moyen: 199.12\n",
      "Capacité d'accueil: 6, Nombre de locations: 4436.0, Prix moyen: 229.91\n",
      "Capacité d'accueil: 7, Nombre de locations: 826.0, Prix moyen: 246.26\n",
      "Capacité d'accueil: 8, Nombre de locations: 1415.0, Prix moyen: 267.48\n",
      "Capacité d'accueil: 9, Nombre de locations: 226.0, Prix moyen: 280.31\n",
      "Capacité d'accueil: 10, Nombre de locations: 482.0, Prix moyen: 279.28\n",
      "Capacité d'accueil: 11, Nombre de locations: 58.0, Prix moyen: 281.52\n",
      "Capacité d'accueil: 12, Nombre de locations: 154.0, Prix moyen: 306.40\n",
      "Capacité d'accueil: 13, Nombre de locations: 30.0, Prix moyen: 323.70\n",
      "Capacité d'accueil: 14, Nombre de locations: 65.0, Prix moyen: 295.72\n",
      "Capacité d'accueil: 15, Nombre de locations: 33.0, Prix moyen: 288.52\n",
      "Capacité d'accueil: 16, Nombre de locations: 164.0, Prix moyen: 299.50\n"
     ]
    }
   ],
   "source": [
    "# Utiliser la fonction groupby sur la feature accommodates pour calculer le nombre de locations et le prix moyen\n",
    "accommodates_stats = data_filtered.groupby('accommodates')['price'].aggregate(['count', 'mean'])\n",
    "\n",
    "# Afficher les résultats\n",
    "print(accommodates_stats)\n",
    "\n",
    "# Analyser les résultats\n",
    "for accommodates, stats in accommodates_stats.iterrows():\n",
    "    print(f\"Capacité d'accueil: {accommodates}, Nombre de locations: {stats['count']}, Prix moyen: {stats['mean']:.2f}\")"
   ]
  },
  {
   "cell_type": "code",
   "execution_count": 27,
   "metadata": {},
   "outputs": [
    {
     "name": "stdout",
     "output_type": "stream",
     "text": [
      "              count       mean\n",
      "accommodates                  \n",
      "1                13  44.769231\n",
      "2                 6  79.000000\n",
      "4                 6  32.833333\n",
      "6                 1  46.000000\n",
      "10                1  27.000000\n",
      "12                1  33.000000\n",
      "Capacité d'accueil: 1, Nombre de locations: 13.0, Prix moyen: 44.77\n",
      "Capacité d'accueil: 2, Nombre de locations: 6.0, Prix moyen: 79.00\n",
      "Capacité d'accueil: 4, Nombre de locations: 6.0, Prix moyen: 32.83\n",
      "Capacité d'accueil: 6, Nombre de locations: 1.0, Prix moyen: 46.00\n",
      "Capacité d'accueil: 10, Nombre de locations: 1.0, Prix moyen: 27.00\n",
      "Capacité d'accueil: 12, Nombre de locations: 1.0, Prix moyen: 33.00\n"
     ]
    }
   ],
   "source": [
    "# Filtrer les locations où le nombre de salles de bains est égal à 8\n",
    "data_bathrooms_8 = data_filtered[data_filtered['bathrooms'] == 8]\n",
    "\n",
    "# Utiliser la fonction groupby sur la feature accommodates pour calculer le nombre de locations et le prix moyen\n",
    "accommodates_stats_bathrooms_8 = data_bathrooms_8.groupby('accommodates')['price'].aggregate(['count', 'mean'])\n",
    "\n",
    "# Afficher les résultats\n",
    "print(accommodates_stats_bathrooms_8)\n",
    "\n",
    "# Analyser les résultats\n",
    "for accommodates, stats in accommodates_stats_bathrooms_8.iterrows():\n",
    "    print(f\"Capacité d'accueil: {accommodates}, Nombre de locations: {stats['count']}, Prix moyen: {stats['mean']:.2f}\")"
   ]
  },
  {
   "cell_type": "markdown",
   "metadata": {},
   "source": [
    "Capacité d'Accueil :\n",
    "\n",
    "Les logements avec une capacité d'accueil de 1 à 2 personnes ont des prix moyens plus élevés (44.77 et 79.00 dollars respectivement).\n",
    "Les logements avec une capacité d'accueil plus élevée (4 à 12 personnes) ont des prix moyens plus bas (27.00 à 46.00 dollars).\n",
    "Rareté et Anomalies :\n",
    "\n",
    "Le nombre de locations avec 8 salles de bains est très faible (seulement 28 en total), ce qui peut indiquer des anomalies ou des erreurs dans les données.\n",
    "Les prix moyens bas peuvent être dus à des erreurs de saisie ou à des logements atypiques qui ne correspondent pas aux attentes pour des logements avec autant de salles de bains.\n",
    "Qualité des Données :\n",
    "\n",
    "Il est possible que les données contiennent des erreurs ou des valeurs aberrantes qui faussent les résultats.\n",
    "Une vérification plus approfondie des données pourrait être nécessaire pour s'assurer de leur qualité et de leur précision."
   ]
  },
  {
   "cell_type": "markdown",
   "metadata": {},
   "source": [
    "Encodage en fonction des prix moyens des locations est souvent plus judicieux pour des tâches de prédiction de prix, car il capture directement la valeur économique de chaque catégorie et réduit la variabilité au sein des catégories."
   ]
  }
 ],
 "metadata": {
  "kernelspec": {
   "display_name": "base",
   "language": "python",
   "name": "python3"
  },
  "language_info": {
   "codemirror_mode": {
    "name": "ipython",
    "version": 3
   },
   "file_extension": ".py",
   "mimetype": "text/x-python",
   "name": "python",
   "nbconvert_exporter": "python",
   "pygments_lexer": "ipython3",
   "version": "3.12.4"
  }
 },
 "nbformat": 4,
 "nbformat_minor": 2
}
